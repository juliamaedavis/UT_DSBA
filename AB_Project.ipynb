{
 "cells": [
  {
   "cell_type": "markdown",
   "id": "6yDxo9u0d9Na",
   "metadata": {
    "id": "6yDxo9u0d9Na"
   },
   "source": [
    "# Project Business Statistics: E-news Express\n",
    "\n",
    "**Marks: 60**"
   ]
  },
  {
   "cell_type": "markdown",
   "id": "SrLd-ICEmPSD",
   "metadata": {
    "id": "SrLd-ICEmPSD"
   },
   "source": [
    "## Define Problem Statement and Objectives"
   ]
  },
  {
   "cell_type": "markdown",
   "id": "9Vt1PLLqmXNn",
   "metadata": {
    "id": "9Vt1PLLqmXNn"
   },
   "source": [
    "#### Problem Statement:\n",
    "\n",
    "An online news portal aims to expand its business by acquiring new subscribers. Every visitor to the website takes certain actions based on their interest. The company plans to analyze these interests and wants to determine whether a new feature will be effective or not. Companies often analyze users' responses to two variants of a product to decide which of the two variants is more effective. This experimental technique is known as a/b testing that is used to determine whether a new feature attracts users based on a chosen metric.\n",
    "\n",
    "Suppose you are hired as a Data Scientist in E-news Express. The design team of the company has created a new landing page. You have been assigned the task to decide **whether the new landing page is more effective to gather new subscribers.** Suppose you randomly selected 100 users and divided them equally into two groups. The old landing page is served to the first group (control group) and the new landing page is served to the second group (treatment group). Various data about the customers in both groups are collected in 'abtest.csv'. Perform the statistical analysis to answer the following questions using the collected data.\n",
    "\n",
    "#### Objectives:\n",
    "\n",
    "Statistical analysis of business data. Explore the dataset and extract insights from the data. The idea is for you to get comfortable with doing statistical analysis in Python.\n",
    "\n",
    "You are expected to perform the statistical analysis to answer the following questions:\n",
    "\n",
    "1. Explore the dataset and extract insights using Exploratory Data Analysis.\n",
    "2. Do the users spend more time on the new landing page than the old landing page?\n",
    "3. Is the conversion rate (the proportion of users who visit the landing page and get converted) for the new page greater than the conversion rate for the old page?\n",
    "4. Does the converted status depend on the preferred language? [Hint: Create a contingency table using the pandas.crosstab() function]\n",
    "5. Is the mean time spent on the new page same for the different language users?"
   ]
  },
  {
   "cell_type": "markdown",
   "id": "a6a3d218",
   "metadata": {
    "id": "a6a3d218"
   },
   "source": [
    "## Import all the necessary libraries"
   ]
  },
  {
   "cell_type": "code",
   "execution_count": 46,
   "id": "658c5dec",
   "metadata": {
    "id": "658c5dec"
   },
   "outputs": [],
   "source": [
    "import numpy as np\n",
    "import pandas as pd\n",
    "from matplotlib import pyplot as plt\n",
    "import seaborn as sns"
   ]
  },
  {
   "cell_type": "markdown",
   "id": "9d75cfa2",
   "metadata": {
    "id": "9d75cfa2"
   },
   "source": [
    "## 1. Explore the dataset and extract insights using Exploratory Data Analysis. (10 Marks)"
   ]
  },
  {
   "cell_type": "markdown",
   "id": "27201534",
   "metadata": {
    "id": "27201534"
   },
   "source": [
    "### Exploratory Data Analysis - Step by step approach\n",
    "\n",
    "Typical Data exploration activity consists of the following steps:\n",
    "1.\tImporting Data\n",
    "2.\tVariable Identification\n",
    "3.  Variable Transformation/Feature Creation\n",
    "4.  Missing value detection\n",
    "5.\tUnivariate Analysis\n",
    "6.\tBivariate Analysis"
   ]
  },
  {
   "cell_type": "markdown",
   "id": "6970dd99",
   "metadata": {
    "id": "6970dd99"
   },
   "source": [
    "### Reading the Data into a DataFrame"
   ]
  },
  {
   "cell_type": "code",
   "execution_count": 47,
   "id": "d3b95640",
   "metadata": {
    "id": "d3b95640"
   },
   "outputs": [],
   "source": [
    "%matplotlib inline \n",
    "\n",
    "import scipy.stats as stats\n",
    "\n",
    "#read the data into the DataFrame \n",
    "data = pd.read_csv(\"abtest.csv\")"
   ]
  },
  {
   "cell_type": "markdown",
   "id": "a4e471fd",
   "metadata": {
    "id": "a4e471fd"
   },
   "source": [
    "### Data Overview\n",
    "- View a few rows of the data frame.\n",
    "- Check the shape and data types of the data frame. Add observations.\n",
    "- Fix the data-types (if needed).\n",
    "- Missing Value Check.\n",
    "- Summary statistics from the data frame. Add observations."
   ]
  },
  {
   "cell_type": "markdown",
   "id": "0db03533",
   "metadata": {},
   "source": [
    "#### View a Few Rows of the Data Frame"
   ]
  },
  {
   "cell_type": "code",
   "execution_count": 48,
   "id": "0da55479",
   "metadata": {},
   "outputs": [
    {
     "data": {
      "text/html": [
       "<div>\n",
       "<style scoped>\n",
       "    .dataframe tbody tr th:only-of-type {\n",
       "        vertical-align: middle;\n",
       "    }\n",
       "\n",
       "    .dataframe tbody tr th {\n",
       "        vertical-align: top;\n",
       "    }\n",
       "\n",
       "    .dataframe thead th {\n",
       "        text-align: right;\n",
       "    }\n",
       "</style>\n",
       "<table border=\"1\" class=\"dataframe\">\n",
       "  <thead>\n",
       "    <tr style=\"text-align: right;\">\n",
       "      <th></th>\n",
       "      <th>user_id</th>\n",
       "      <th>group</th>\n",
       "      <th>landing_page</th>\n",
       "      <th>time_spent_on_the_page</th>\n",
       "      <th>converted</th>\n",
       "      <th>language_preferred</th>\n",
       "    </tr>\n",
       "  </thead>\n",
       "  <tbody>\n",
       "    <tr>\n",
       "      <th>0</th>\n",
       "      <td>546592</td>\n",
       "      <td>control</td>\n",
       "      <td>old</td>\n",
       "      <td>3.48</td>\n",
       "      <td>no</td>\n",
       "      <td>Spanish</td>\n",
       "    </tr>\n",
       "    <tr>\n",
       "      <th>1</th>\n",
       "      <td>546468</td>\n",
       "      <td>treatment</td>\n",
       "      <td>new</td>\n",
       "      <td>7.13</td>\n",
       "      <td>yes</td>\n",
       "      <td>English</td>\n",
       "    </tr>\n",
       "    <tr>\n",
       "      <th>2</th>\n",
       "      <td>546462</td>\n",
       "      <td>treatment</td>\n",
       "      <td>new</td>\n",
       "      <td>4.40</td>\n",
       "      <td>no</td>\n",
       "      <td>Spanish</td>\n",
       "    </tr>\n",
       "    <tr>\n",
       "      <th>3</th>\n",
       "      <td>546567</td>\n",
       "      <td>control</td>\n",
       "      <td>old</td>\n",
       "      <td>3.02</td>\n",
       "      <td>no</td>\n",
       "      <td>French</td>\n",
       "    </tr>\n",
       "    <tr>\n",
       "      <th>4</th>\n",
       "      <td>546459</td>\n",
       "      <td>treatment</td>\n",
       "      <td>new</td>\n",
       "      <td>4.75</td>\n",
       "      <td>yes</td>\n",
       "      <td>Spanish</td>\n",
       "    </tr>\n",
       "  </tbody>\n",
       "</table>\n",
       "</div>"
      ],
      "text/plain": [
       "   user_id      group landing_page  time_spent_on_the_page converted  \\\n",
       "0   546592    control          old                    3.48        no   \n",
       "1   546468  treatment          new                    7.13       yes   \n",
       "2   546462  treatment          new                    4.40        no   \n",
       "3   546567    control          old                    3.02        no   \n",
       "4   546459  treatment          new                    4.75       yes   \n",
       "\n",
       "  language_preferred  \n",
       "0            Spanish  \n",
       "1            English  \n",
       "2            Spanish  \n",
       "3             French  \n",
       "4            Spanish  "
      ]
     },
     "execution_count": 48,
     "metadata": {},
     "output_type": "execute_result"
    }
   ],
   "source": [
    "#view a few rows of the data frame\n",
    "data.head()"
   ]
  },
  {
   "cell_type": "markdown",
   "id": "b2713233",
   "metadata": {},
   "source": [
    "#### Check the Shape and Data Types of the Data Frame "
   ]
  },
  {
   "cell_type": "code",
   "execution_count": 49,
   "id": "e1ad11d4",
   "metadata": {
    "id": "e1ad11d4"
   },
   "outputs": [
    {
     "data": {
      "text/plain": [
       "(100, 6)"
      ]
     },
     "execution_count": 49,
     "metadata": {},
     "output_type": "execute_result"
    }
   ],
   "source": [
    "#checking the shape of the data \n",
    "data.shape"
   ]
  },
  {
   "cell_type": "markdown",
   "id": "a33cfc04",
   "metadata": {},
   "source": [
    "* There are 100 rows and 6 columns"
   ]
  },
  {
   "cell_type": "code",
   "execution_count": 50,
   "id": "00bef9cc",
   "metadata": {},
   "outputs": [
    {
     "name": "stdout",
     "output_type": "stream",
     "text": [
      "<class 'pandas.core.frame.DataFrame'>\n",
      "RangeIndex: 100 entries, 0 to 99\n",
      "Data columns (total 6 columns):\n",
      " #   Column                  Non-Null Count  Dtype  \n",
      "---  ------                  --------------  -----  \n",
      " 0   user_id                 100 non-null    int64  \n",
      " 1   group                   100 non-null    object \n",
      " 2   landing_page            100 non-null    object \n",
      " 3   time_spent_on_the_page  100 non-null    float64\n",
      " 4   converted               100 non-null    object \n",
      " 5   language_preferred      100 non-null    object \n",
      "dtypes: float64(1), int64(1), object(4)\n",
      "memory usage: 4.8+ KB\n"
     ]
    }
   ],
   "source": [
    "#inspecting the dataset \n",
    "data.info()"
   ]
  },
  {
   "cell_type": "markdown",
   "id": "10c76e19",
   "metadata": {},
   "source": [
    "* There are 2 numerical values and 4 objects that need to be converted to categorical data"
   ]
  },
  {
   "cell_type": "markdown",
   "id": "46bf1ce0",
   "metadata": {},
   "source": [
    "#### Fix the Data-types "
   ]
  },
  {
   "cell_type": "code",
   "execution_count": 51,
   "id": "ad6acea4",
   "metadata": {},
   "outputs": [
    {
     "name": "stdout",
     "output_type": "stream",
     "text": [
      "<class 'pandas.core.frame.DataFrame'>\n",
      "RangeIndex: 100 entries, 0 to 99\n",
      "Data columns (total 6 columns):\n",
      " #   Column                  Non-Null Count  Dtype   \n",
      "---  ------                  --------------  -----   \n",
      " 0   user_id                 100 non-null    int64   \n",
      " 1   group                   100 non-null    category\n",
      " 2   landing_page            100 non-null    category\n",
      " 3   time_spent_on_the_page  100 non-null    float64 \n",
      " 4   converted               100 non-null    category\n",
      " 5   language_preferred      100 non-null    category\n",
      "dtypes: category(4), float64(1), int64(1)\n",
      "memory usage: 2.6 KB\n"
     ]
    }
   ],
   "source": [
    "#Fixing the data-types \n",
    "# Converting \"objects\" to \"category\" reduces the data space required to store the dataframe\n",
    "\n",
    "for col in ['group', 'landing_page', 'converted', 'language_preferred']:\n",
    "    data[col] = data[col].astype('category')\n",
    "\n",
    "# Use info() to print a concise summary of the DataFrame\n",
    "data.info()"
   ]
  },
  {
   "cell_type": "markdown",
   "id": "16152091",
   "metadata": {},
   "source": [
    "* There are now 2 numerical values and 4 categorical values in this data"
   ]
  },
  {
   "cell_type": "markdown",
   "id": "4e244a77",
   "metadata": {},
   "source": [
    "#### Missing Value Check "
   ]
  },
  {
   "cell_type": "code",
   "execution_count": 52,
   "id": "4fe03c06",
   "metadata": {},
   "outputs": [
    {
     "data": {
      "text/plain": [
       "user_id                   0\n",
       "group                     0\n",
       "landing_page              0\n",
       "time_spent_on_the_page    0\n",
       "converted                 0\n",
       "language_preferred        0\n",
       "dtype: int64"
      ]
     },
     "execution_count": 52,
     "metadata": {},
     "output_type": "execute_result"
    }
   ],
   "source": [
    "# checking for missing values \n",
    "data.isnull().sum()"
   ]
  },
  {
   "cell_type": "markdown",
   "id": "ff25230a",
   "metadata": {},
   "source": [
    "* There are no missing values in the data"
   ]
  },
  {
   "cell_type": "markdown",
   "id": "9ec078ba",
   "metadata": {},
   "source": [
    "#### Summary Statistics of the Data Frame"
   ]
  },
  {
   "cell_type": "code",
   "execution_count": 53,
   "id": "bf606874",
   "metadata": {},
   "outputs": [
    {
     "data": {
      "text/html": [
       "<div>\n",
       "<style scoped>\n",
       "    .dataframe tbody tr th:only-of-type {\n",
       "        vertical-align: middle;\n",
       "    }\n",
       "\n",
       "    .dataframe tbody tr th {\n",
       "        vertical-align: top;\n",
       "    }\n",
       "\n",
       "    .dataframe thead th {\n",
       "        text-align: right;\n",
       "    }\n",
       "</style>\n",
       "<table border=\"1\" class=\"dataframe\">\n",
       "  <thead>\n",
       "    <tr style=\"text-align: right;\">\n",
       "      <th></th>\n",
       "      <th>user_id</th>\n",
       "      <th>time_spent_on_the_page</th>\n",
       "    </tr>\n",
       "  </thead>\n",
       "  <tbody>\n",
       "    <tr>\n",
       "      <th>count</th>\n",
       "      <td>100.000000</td>\n",
       "      <td>100.000000</td>\n",
       "    </tr>\n",
       "    <tr>\n",
       "      <th>mean</th>\n",
       "      <td>546517.000000</td>\n",
       "      <td>5.377800</td>\n",
       "    </tr>\n",
       "    <tr>\n",
       "      <th>std</th>\n",
       "      <td>52.295779</td>\n",
       "      <td>2.378166</td>\n",
       "    </tr>\n",
       "    <tr>\n",
       "      <th>min</th>\n",
       "      <td>546443.000000</td>\n",
       "      <td>0.190000</td>\n",
       "    </tr>\n",
       "    <tr>\n",
       "      <th>25%</th>\n",
       "      <td>546467.750000</td>\n",
       "      <td>3.880000</td>\n",
       "    </tr>\n",
       "    <tr>\n",
       "      <th>50%</th>\n",
       "      <td>546492.500000</td>\n",
       "      <td>5.415000</td>\n",
       "    </tr>\n",
       "    <tr>\n",
       "      <th>75%</th>\n",
       "      <td>546567.250000</td>\n",
       "      <td>7.022500</td>\n",
       "    </tr>\n",
       "    <tr>\n",
       "      <th>max</th>\n",
       "      <td>546592.000000</td>\n",
       "      <td>10.710000</td>\n",
       "    </tr>\n",
       "  </tbody>\n",
       "</table>\n",
       "</div>"
      ],
      "text/plain": [
       "             user_id  time_spent_on_the_page\n",
       "count     100.000000              100.000000\n",
       "mean   546517.000000                5.377800\n",
       "std        52.295779                2.378166\n",
       "min    546443.000000                0.190000\n",
       "25%    546467.750000                3.880000\n",
       "50%    546492.500000                5.415000\n",
       "75%    546567.250000                7.022500\n",
       "max    546592.000000               10.710000"
      ]
     },
     "execution_count": 53,
     "metadata": {},
     "output_type": "execute_result"
    }
   ],
   "source": [
    "#summary statistics \n",
    "data.describe()"
   ]
  },
  {
   "cell_type": "markdown",
   "id": "050ebf3e",
   "metadata": {},
   "source": [
    "#### Observations \n",
    "* The mean time spent by the user on the landing page is about 5.38 minutes \n",
    "* The minimum time spent by the user on the landing page is 0.19 minutes \n",
    "* The maximum time spent by the user on the landing page is 10.71 minutes"
   ]
  },
  {
   "cell_type": "markdown",
   "id": "68f3b2c9",
   "metadata": {
    "id": "68f3b2c9"
   },
   "source": [
    "### Univariate Analysis"
   ]
  },
  {
   "cell_type": "code",
   "execution_count": 54,
   "id": "1932d0f3",
   "metadata": {
    "id": "1932d0f3"
   },
   "outputs": [],
   "source": [
    "# function to plot a boxplot and a histogram along the same scale.\n",
    "\n",
    "\n",
    "def histogram_boxplot(data, feature, figsize=(12, 7), kde=False, bins=None):\n",
    "    \"\"\"\n",
    "    Boxplot and histogram combined\n",
    "\n",
    "    data: dataframe\n",
    "    feature: dataframe column\n",
    "    figsize: size of figure (default (12,7))\n",
    "    kde: whether to show the density curve (default False)\n",
    "    bins: number of bins for histogram (default None)\n",
    "    \"\"\"\n",
    "    f2, (ax_box2, ax_hist2) = plt.subplots(\n",
    "        nrows=2,  # Number of rows of the subplot grid= 2\n",
    "        sharex=True,  # x-axis will be shared among all subplots\n",
    "        gridspec_kw={\"height_ratios\": (0.25, 0.75)},\n",
    "        figsize=figsize,\n",
    "    )  # creating the 2 subplots\n",
    "    sns.boxplot(\n",
    "        data=data, x=feature, ax=ax_box2, showmeans=True, color=\"violet\"\n",
    "    )  # boxplot will be created and a star will indicate the mean value of the column\n",
    "    sns.histplot(\n",
    "        data=data, x=feature, kde=kde, ax=ax_hist2, bins=bins, palette=\"winter\"\n",
    "    ) if bins else sns.histplot(\n",
    "        data=data, x=feature, kde=kde, ax=ax_hist2\n",
    "    )  # For histogram\n",
    "    ax_hist2.axvline(\n",
    "        data[feature].mean(), color=\"green\", linestyle=\"--\"\n",
    "    )  # Add mean to the histogram\n",
    "    ax_hist2.axvline(\n",
    "        data[feature].median(), color=\"black\", linestyle=\"-\"\n",
    "    )  # Add median to the histogram"
   ]
  },
  {
   "cell_type": "code",
   "execution_count": 55,
   "id": "2fce6350",
   "metadata": {
    "id": "2fce6350"
   },
   "outputs": [],
   "source": [
    "# function to create labeled barplots\n",
    "\n",
    "\n",
    "def labeled_barplot(data, feature, perc=False, n=None):\n",
    "    \"\"\"\n",
    "    Barplot with percentage at the top\n",
    "\n",
    "    data: dataframe\n",
    "    feature: dataframe column\n",
    "    perc: whether to display percentages instead of count (default is False)\n",
    "    n: displays the top n category levels (default is None, i.e., display all levels)\n",
    "    \"\"\"\n",
    "\n",
    "    total = len(data[feature])  # length of the column\n",
    "    count = data[feature].nunique()\n",
    "    if n is None:\n",
    "        plt.figure(figsize=(count + 1, 5))\n",
    "    else:\n",
    "        plt.figure(figsize=(n + 1, 5))\n",
    "\n",
    "    plt.xticks(rotation=90, fontsize=15)\n",
    "    ax = sns.countplot(data=data, x=feature, palette=\"Paired\", order=data[feature].value_counts().index[:n].sort_values())\n",
    "\n",
    "    for p in ax.patches:\n",
    "        if perc == True:\n",
    "            label = \"{:.1f}%\".format(100 * p.get_height() / total)  # percentage of each class of the category\n",
    "        else:\n",
    "            label = p.get_height()  # count of each level of the category\n",
    "\n",
    "        x = p.get_x() + p.get_width() / 2  # width of the plot\n",
    "        y = p.get_height()      # height of the plot\n",
    "\n",
    "        ax.annotate(label, (x, y), ha=\"center\", va=\"center\", size=12, xytext=(0, 5), textcoords=\"offset points\")  # annotate the percentage\n",
    "\n",
    "    plt.show()  # show the plot"
   ]
  },
  {
   "cell_type": "markdown",
   "id": "39b5521c",
   "metadata": {},
   "source": [
    "#### Time Spent on the Page"
   ]
  },
  {
   "cell_type": "code",
   "execution_count": 56,
   "id": "e6f99481",
   "metadata": {
    "id": "e6f99481"
   },
   "outputs": [
    {
     "data": {
      "image/png": "[encoded data removed]",
      "text/plain": [
       "<Figure size 864x504 with 2 Axes>"
      ]
     },
     "metadata": {
      "needs_background": "light"
     },
     "output_type": "display_data"
    }
   ],
   "source": [
    "histogram_boxplot(data, \"time_spent_on_the_page\")"
   ]
  },
  {
   "cell_type": "markdown",
   "id": "711a1ada",
   "metadata": {},
   "source": [
    "#### Observations\n",
    "* The distribution of time spent on the page in normally distributed \n",
    "* The median of time spent on the page is around 5.4 minutes\n",
    "* The mean of time spent on the page is around 5.4 minutes"
   ]
  },
  {
   "cell_type": "markdown",
   "id": "f63c2c8f",
   "metadata": {},
   "source": [
    "#### Group"
   ]
  },
  {
   "cell_type": "code",
   "execution_count": 57,
   "id": "d3eb762e",
   "metadata": {},
   "outputs": [
    {
     "data": {
      "text/plain": [
       "<Figure size 1080x504 with 0 Axes>"
      ]
     },
     "metadata": {},
     "output_type": "display_data"
    },
    {
     "data": {
      "image/png": "[encoded data removed]",
      "text/plain": [
       "<Figure size 216x360 with 1 Axes>"
      ]
     },
     "metadata": {
      "needs_background": "light"
     },
     "output_type": "display_data"
    }
   ],
   "source": [
    "plt.figure(figsize=(15,7))\n",
    "labeled_barplot(data, 'group', perc=True)"
   ]
  },
  {
   "cell_type": "markdown",
   "id": "bede2ac3",
   "metadata": {},
   "source": [
    "#### Observations\n",
    "* There is one control group and one treatment group\n",
    "* The control and treatment groups have an equal size sample "
   ]
  },
  {
   "cell_type": "markdown",
   "id": "dd66a726",
   "metadata": {},
   "source": [
    "#### Landing Page"
   ]
  },
  {
   "cell_type": "code",
   "execution_count": 58,
   "id": "a305a6ae",
   "metadata": {},
   "outputs": [
    {
     "data": {
      "text/plain": [
       "<Figure size 1080x504 with 0 Axes>"
      ]
     },
     "metadata": {},
     "output_type": "display_data"
    },
    {
     "data": {
      "image/png": "[encoded data removed]",
      "text/plain": [
       "<Figure size 216x360 with 1 Axes>"
      ]
     },
     "metadata": {
      "needs_background": "light"
     },
     "output_type": "display_data"
    }
   ],
   "source": [
    "plt.figure(figsize=(15,7))\n",
    "labeled_barplot(data, 'landing_page', perc=True)"
   ]
  },
  {
   "cell_type": "markdown",
   "id": "070d8cb6",
   "metadata": {},
   "source": [
    "#### Observations\n",
    "* There is one new landing page and one old landing page\n",
    "* The distribution of observations across the two landing pages are the same"
   ]
  },
  {
   "cell_type": "markdown",
   "id": "148ba61a",
   "metadata": {},
   "source": [
    "#### Converted"
   ]
  },
  {
   "cell_type": "code",
   "execution_count": 59,
   "id": "3e35157c",
   "metadata": {},
   "outputs": [
    {
     "data": {
      "text/plain": [
       "<Figure size 1080x504 with 0 Axes>"
      ]
     },
     "metadata": {},
     "output_type": "display_data"
    },
    {
     "data": {
      "image/png": "[encoded data removed]",
      "text/plain": [
       "<Figure size 216x360 with 1 Axes>"
      ]
     },
     "metadata": {
      "needs_background": "light"
     },
     "output_type": "display_data"
    }
   ],
   "source": [
    "plt.figure(figsize=(15,7))\n",
    "labeled_barplot(data, 'converted', perc=True)"
   ]
  },
  {
   "cell_type": "markdown",
   "id": "44434949",
   "metadata": {},
   "source": [
    "#### Observations\n",
    "* 46% of users did not convert to a subscriber of the news portal\n",
    "* 54% of users converted to a subscriber of the news portal "
   ]
  },
  {
   "cell_type": "markdown",
   "id": "b731c2c6",
   "metadata": {},
   "source": [
    "#### Language Preferred"
   ]
  },
  {
   "cell_type": "code",
   "execution_count": 60,
   "id": "d26a2be2",
   "metadata": {},
   "outputs": [
    {
     "data": {
      "text/plain": [
       "<Figure size 1080x504 with 0 Axes>"
      ]
     },
     "metadata": {},
     "output_type": "display_data"
    },
    {
     "data": {
      "image/png": "[encoded data removed]",
      "text/plain": [
       "<Figure size 288x360 with 1 Axes>"
      ]
     },
     "metadata": {
      "needs_background": "light"
     },
     "output_type": "display_data"
    }
   ],
   "source": [
    "plt.figure(figsize=(15,7))\n",
    "labeled_barplot(data, 'language_preferred', perc=True)"
   ]
  },
  {
   "cell_type": "markdown",
   "id": "798b9503",
   "metadata": {},
   "source": [
    "#### Observations\n",
    "* 32% of users chose English as their language to view the landing page\n",
    "* 34% of users chose French as their language to view the landing page\n",
    "* 34% of users chose Spanish as their language to view the landing page"
   ]
  },
  {
   "cell_type": "markdown",
   "id": "fad2de2f",
   "metadata": {
    "id": "fad2de2f"
   },
   "source": [
    "### Bivariate Analysis"
   ]
  },
  {
   "cell_type": "markdown",
   "id": "e159c433",
   "metadata": {},
   "source": [
    "#### Landing page vs. group"
   ]
  },
  {
   "cell_type": "code",
   "execution_count": 61,
   "id": "58e9a1d0",
   "metadata": {
    "id": "58e9a1d0"
   },
   "outputs": [
    {
     "data": {
      "image/png": "[encoded data removed]",
      "text/plain": [
       "<Figure size 1080x360 with 1 Axes>"
      ]
     },
     "metadata": {
      "needs_background": "light"
     },
     "output_type": "display_data"
    }
   ],
   "source": [
    "plt.figure(figsize=(15,5))\n",
    "sns.boxplot(data=data, x='group', y='time_spent_on_the_page')\n",
    "plt.show()"
   ]
  },
  {
   "cell_type": "markdown",
   "id": "e54cb3ae",
   "metadata": {},
   "source": [
    "* Overall, the time spent on the page seems to be greater in the treatment group than the control group"
   ]
  },
  {
   "cell_type": "markdown",
   "id": "7fd206fb",
   "metadata": {},
   "source": [
    "#### Landing page vs. time spent on the page "
   ]
  },
  {
   "cell_type": "code",
   "execution_count": 62,
   "id": "d740c765",
   "metadata": {},
   "outputs": [
    {
     "data": {
      "image/png": "[encoded data removed]",
      "text/plain": [
       "<Figure size 1080x360 with 1 Axes>"
      ]
     },
     "metadata": {
      "needs_background": "light"
     },
     "output_type": "display_data"
    }
   ],
   "source": [
    "plt.figure(figsize=(15,5))\n",
    "sns.boxplot(data=data, x='landing_page', y='time_spent_on_the_page')\n",
    "plt.show()"
   ]
  },
  {
   "cell_type": "markdown",
   "id": "a0aff8ac",
   "metadata": {},
   "source": [
    "* Overall, the time spent on the new page seems to be greater than time spent on the new page"
   ]
  },
  {
   "cell_type": "markdown",
   "id": "068810c6",
   "metadata": {},
   "source": [
    "#### Conversion status vs. Time spent on the new page"
   ]
  },
  {
   "cell_type": "code",
   "execution_count": 63,
   "id": "9d3ea760",
   "metadata": {},
   "outputs": [
    {
     "data": {
      "image/png": "[encoded data removed]",
      "text/plain": [
       "<Figure size 1080x360 with 1 Axes>"
      ]
     },
     "metadata": {
      "needs_background": "light"
     },
     "output_type": "display_data"
    }
   ],
   "source": [
    "plt.figure(figsize=(15,5))\n",
    "sns.boxplot(data=data, x='converted', y='time_spent_on_the_page')\n",
    "plt.show()"
   ]
  },
  {
   "cell_type": "markdown",
   "id": "8f09eefb",
   "metadata": {},
   "source": [
    "* Overall, the users who get converted seem to spend more time on the page "
   ]
  },
  {
   "cell_type": "code",
   "execution_count": 64,
   "id": "fed43a9b",
   "metadata": {},
   "outputs": [
    {
     "data": {
      "image/png": "[encoded data removed]",
      "text/plain": [
       "<Figure size 1080x360 with 1 Axes>"
      ]
     },
     "metadata": {
      "needs_background": "light"
     },
     "output_type": "display_data"
    }
   ],
   "source": [
    "plt.figure(figsize=(15,5))\n",
    "sns.boxplot(data=data, x='language_preferred', y='time_spent_on_the_page')\n",
    "plt.show()"
   ]
  },
  {
   "cell_type": "markdown",
   "id": "dbd05659",
   "metadata": {},
   "source": [
    "* The median time spent by the different language users are approximately equal \n",
    "* The mean time spent by the different language users are approximately equal "
   ]
  },
  {
   "cell_type": "code",
   "execution_count": 65,
   "id": "7f0c16ce",
   "metadata": {},
   "outputs": [
    {
     "data": {
      "image/png": "[encoded data removed]",
      "text/plain": [
       "<Figure size 1080x360 with 1 Axes>"
      ]
     },
     "metadata": {
      "needs_background": "light"
     },
     "output_type": "display_data"
    }
   ],
   "source": [
    "plt.figure(figsize=(15,5))\n",
    "sns.barplot(data=data, x='group', y='time_spent_on_the_page', hue='converted')\n",
    "plt.show()"
   ]
  },
  {
   "cell_type": "code",
   "execution_count": 66,
   "id": "c1dbd382",
   "metadata": {},
   "outputs": [
    {
     "data": {
      "image/png": "[encoded data removed]",
      "text/plain": [
       "<Figure size 1080x360 with 1 Axes>"
      ]
     },
     "metadata": {
      "needs_background": "light"
     },
     "output_type": "display_data"
    }
   ],
   "source": [
    "plt.figure(figsize=(15,5))\n",
    "sns.barplot(data=data, x='landing_page', y='time_spent_on_the_page', hue='converted')\n",
    "plt.show()"
   ]
  },
  {
   "cell_type": "code",
   "execution_count": 67,
   "id": "c9bffa4a",
   "metadata": {},
   "outputs": [
    {
     "data": {
      "image/png": "[encoded data removed]",
      "text/plain": [
       "<Figure size 1080x360 with 1 Axes>"
      ]
     },
     "metadata": {
      "needs_background": "light"
     },
     "output_type": "display_data"
    }
   ],
   "source": [
    "plt.figure(figsize=(15,5))\n",
    "sns.barplot(data=data, x='landing_page', y='time_spent_on_the_page', hue='language_preferred')\n",
    "plt.show()"
   ]
  },
  {
   "cell_type": "code",
   "execution_count": 68,
   "id": "c0bb0674",
   "metadata": {},
   "outputs": [
    {
     "data": {
      "image/png": "[encoded data removed]",
      "text/plain": [
       "<Figure size 1080x360 with 1 Axes>"
      ]
     },
     "metadata": {
      "needs_background": "light"
     },
     "output_type": "display_data"
    }
   ],
   "source": [
    "plt.figure(figsize=(15,5))\n",
    "sns.barplot(data=data, x='converted', y='time_spent_on_the_page', hue='language_preferred')\n",
    "plt.show()"
   ]
  },
  {
   "cell_type": "code",
   "execution_count": 69,
   "id": "2f9ceceb",
   "metadata": {},
   "outputs": [
    {
     "data": {
      "image/png": "[encoded data removed]",
      "text/plain": [
       "<Figure size 1080x360 with 1 Axes>"
      ]
     },
     "metadata": {
      "needs_background": "light"
     },
     "output_type": "display_data"
    }
   ],
   "source": [
    "plt.figure(figsize=(15,5))\n",
    "sns.barplot(data=data, x='group', y='time_spent_on_the_page', hue='language_preferred')\n",
    "plt.show()"
   ]
  },
  {
   "cell_type": "markdown",
   "id": "27906576",
   "metadata": {
    "id": "27906576"
   },
   "source": [
    "## 2. Do the users spend more time on the new landing page than the existing landing page? (10 Marks)"
   ]
  },
  {
   "cell_type": "code",
   "execution_count": 70,
   "id": "1d25ef04",
   "metadata": {},
   "outputs": [
    {
     "data": {
      "text/html": [
       "<div>\n",
       "<style scoped>\n",
       "    .dataframe tbody tr th:only-of-type {\n",
       "        vertical-align: middle;\n",
       "    }\n",
       "\n",
       "    .dataframe tbody tr th {\n",
       "        vertical-align: top;\n",
       "    }\n",
       "\n",
       "    .dataframe thead th {\n",
       "        text-align: right;\n",
       "    }\n",
       "</style>\n",
       "<table border=\"1\" class=\"dataframe\">\n",
       "  <thead>\n",
       "    <tr style=\"text-align: right;\">\n",
       "      <th></th>\n",
       "      <th>user_id</th>\n",
       "      <th>group</th>\n",
       "      <th>landing_page</th>\n",
       "      <th>time_spent_on_the_page</th>\n",
       "      <th>converted</th>\n",
       "      <th>language_preferred</th>\n",
       "    </tr>\n",
       "  </thead>\n",
       "  <tbody>\n",
       "    <tr>\n",
       "      <th>count</th>\n",
       "      <td>50.00000</td>\n",
       "      <td>50</td>\n",
       "      <td>50</td>\n",
       "      <td>50.000000</td>\n",
       "      <td>50</td>\n",
       "      <td>50</td>\n",
       "    </tr>\n",
       "    <tr>\n",
       "      <th>unique</th>\n",
       "      <td>NaN</td>\n",
       "      <td>1</td>\n",
       "      <td>1</td>\n",
       "      <td>NaN</td>\n",
       "      <td>2</td>\n",
       "      <td>3</td>\n",
       "    </tr>\n",
       "    <tr>\n",
       "      <th>top</th>\n",
       "      <td>NaN</td>\n",
       "      <td>treatment</td>\n",
       "      <td>new</td>\n",
       "      <td>NaN</td>\n",
       "      <td>yes</td>\n",
       "      <td>French</td>\n",
       "    </tr>\n",
       "    <tr>\n",
       "      <th>freq</th>\n",
       "      <td>NaN</td>\n",
       "      <td>50</td>\n",
       "      <td>50</td>\n",
       "      <td>NaN</td>\n",
       "      <td>33</td>\n",
       "      <td>17</td>\n",
       "    </tr>\n",
       "    <tr>\n",
       "      <th>mean</th>\n",
       "      <td>546467.50000</td>\n",
       "      <td>NaN</td>\n",
       "      <td>NaN</td>\n",
       "      <td>6.223200</td>\n",
       "      <td>NaN</td>\n",
       "      <td>NaN</td>\n",
       "    </tr>\n",
       "    <tr>\n",
       "      <th>std</th>\n",
       "      <td>14.57738</td>\n",
       "      <td>NaN</td>\n",
       "      <td>NaN</td>\n",
       "      <td>1.817031</td>\n",
       "      <td>NaN</td>\n",
       "      <td>NaN</td>\n",
       "    </tr>\n",
       "    <tr>\n",
       "      <th>min</th>\n",
       "      <td>546443.00000</td>\n",
       "      <td>NaN</td>\n",
       "      <td>NaN</td>\n",
       "      <td>1.650000</td>\n",
       "      <td>NaN</td>\n",
       "      <td>NaN</td>\n",
       "    </tr>\n",
       "    <tr>\n",
       "      <th>25%</th>\n",
       "      <td>546455.25000</td>\n",
       "      <td>NaN</td>\n",
       "      <td>NaN</td>\n",
       "      <td>5.175000</td>\n",
       "      <td>NaN</td>\n",
       "      <td>NaN</td>\n",
       "    </tr>\n",
       "    <tr>\n",
       "      <th>50%</th>\n",
       "      <td>546467.50000</td>\n",
       "      <td>NaN</td>\n",
       "      <td>NaN</td>\n",
       "      <td>6.105000</td>\n",
       "      <td>NaN</td>\n",
       "      <td>NaN</td>\n",
       "    </tr>\n",
       "    <tr>\n",
       "      <th>75%</th>\n",
       "      <td>546479.75000</td>\n",
       "      <td>NaN</td>\n",
       "      <td>NaN</td>\n",
       "      <td>7.160000</td>\n",
       "      <td>NaN</td>\n",
       "      <td>NaN</td>\n",
       "    </tr>\n",
       "    <tr>\n",
       "      <th>max</th>\n",
       "      <td>546492.00000</td>\n",
       "      <td>NaN</td>\n",
       "      <td>NaN</td>\n",
       "      <td>10.710000</td>\n",
       "      <td>NaN</td>\n",
       "      <td>NaN</td>\n",
       "    </tr>\n",
       "  </tbody>\n",
       "</table>\n",
       "</div>"
      ],
      "text/plain": [
       "             user_id      group landing_page  time_spent_on_the_page  \\\n",
       "count       50.00000         50           50               50.000000   \n",
       "unique           NaN          1            1                     NaN   \n",
       "top              NaN  treatment          new                     NaN   \n",
       "freq             NaN         50           50                     NaN   \n",
       "mean    546467.50000        NaN          NaN                6.223200   \n",
       "std         14.57738        NaN          NaN                1.817031   \n",
       "min     546443.00000        NaN          NaN                1.650000   \n",
       "25%     546455.25000        NaN          NaN                5.175000   \n",
       "50%     546467.50000        NaN          NaN                6.105000   \n",
       "75%     546479.75000        NaN          NaN                7.160000   \n",
       "max     546492.00000        NaN          NaN               10.710000   \n",
       "\n",
       "       converted language_preferred  \n",
       "count         50                 50  \n",
       "unique         2                  3  \n",
       "top          yes             French  \n",
       "freq          33                 17  \n",
       "mean         NaN                NaN  \n",
       "std          NaN                NaN  \n",
       "min          NaN                NaN  \n",
       "25%          NaN                NaN  \n",
       "50%          NaN                NaN  \n",
       "75%          NaN                NaN  \n",
       "max          NaN                NaN  "
      ]
     },
     "execution_count": 70,
     "metadata": {},
     "output_type": "execute_result"
    }
   ],
   "source": [
    "data[data[\"landing_page\"]==\"new\"].describe(include=\"all\")"
   ]
  },
  {
   "cell_type": "markdown",
   "id": "0216c8ae",
   "metadata": {},
   "source": [
    "#### Observations\n",
    "* The mean time spent on the page for the new landing page is about 6.22 minutes"
   ]
  },
  {
   "cell_type": "code",
   "execution_count": 71,
   "id": "3026b8d4",
   "metadata": {},
   "outputs": [
    {
     "data": {
      "text/html": [
       "<div>\n",
       "<style scoped>\n",
       "    .dataframe tbody tr th:only-of-type {\n",
       "        vertical-align: middle;\n",
       "    }\n",
       "\n",
       "    .dataframe tbody tr th {\n",
       "        vertical-align: top;\n",
       "    }\n",
       "\n",
       "    .dataframe thead th {\n",
       "        text-align: right;\n",
       "    }\n",
       "</style>\n",
       "<table border=\"1\" class=\"dataframe\">\n",
       "  <thead>\n",
       "    <tr style=\"text-align: right;\">\n",
       "      <th></th>\n",
       "      <th>user_id</th>\n",
       "      <th>group</th>\n",
       "      <th>landing_page</th>\n",
       "      <th>time_spent_on_the_page</th>\n",
       "      <th>converted</th>\n",
       "      <th>language_preferred</th>\n",
       "    </tr>\n",
       "  </thead>\n",
       "  <tbody>\n",
       "    <tr>\n",
       "      <th>count</th>\n",
       "      <td>50.00000</td>\n",
       "      <td>50</td>\n",
       "      <td>50</td>\n",
       "      <td>50.000000</td>\n",
       "      <td>50</td>\n",
       "      <td>50</td>\n",
       "    </tr>\n",
       "    <tr>\n",
       "      <th>unique</th>\n",
       "      <td>NaN</td>\n",
       "      <td>1</td>\n",
       "      <td>1</td>\n",
       "      <td>NaN</td>\n",
       "      <td>2</td>\n",
       "      <td>3</td>\n",
       "    </tr>\n",
       "    <tr>\n",
       "      <th>top</th>\n",
       "      <td>NaN</td>\n",
       "      <td>control</td>\n",
       "      <td>old</td>\n",
       "      <td>NaN</td>\n",
       "      <td>no</td>\n",
       "      <td>French</td>\n",
       "    </tr>\n",
       "    <tr>\n",
       "      <th>freq</th>\n",
       "      <td>NaN</td>\n",
       "      <td>50</td>\n",
       "      <td>50</td>\n",
       "      <td>NaN</td>\n",
       "      <td>29</td>\n",
       "      <td>17</td>\n",
       "    </tr>\n",
       "    <tr>\n",
       "      <th>mean</th>\n",
       "      <td>546566.50000</td>\n",
       "      <td>NaN</td>\n",
       "      <td>NaN</td>\n",
       "      <td>4.532400</td>\n",
       "      <td>NaN</td>\n",
       "      <td>NaN</td>\n",
       "    </tr>\n",
       "    <tr>\n",
       "      <th>std</th>\n",
       "      <td>17.67767</td>\n",
       "      <td>NaN</td>\n",
       "      <td>NaN</td>\n",
       "      <td>2.581975</td>\n",
       "      <td>NaN</td>\n",
       "      <td>NaN</td>\n",
       "    </tr>\n",
       "    <tr>\n",
       "      <th>min</th>\n",
       "      <td>546493.00000</td>\n",
       "      <td>NaN</td>\n",
       "      <td>NaN</td>\n",
       "      <td>0.190000</td>\n",
       "      <td>NaN</td>\n",
       "      <td>NaN</td>\n",
       "    </tr>\n",
       "    <tr>\n",
       "      <th>25%</th>\n",
       "      <td>546555.25000</td>\n",
       "      <td>NaN</td>\n",
       "      <td>NaN</td>\n",
       "      <td>2.720000</td>\n",
       "      <td>NaN</td>\n",
       "      <td>NaN</td>\n",
       "    </tr>\n",
       "    <tr>\n",
       "      <th>50%</th>\n",
       "      <td>546567.50000</td>\n",
       "      <td>NaN</td>\n",
       "      <td>NaN</td>\n",
       "      <td>4.380000</td>\n",
       "      <td>NaN</td>\n",
       "      <td>NaN</td>\n",
       "    </tr>\n",
       "    <tr>\n",
       "      <th>75%</th>\n",
       "      <td>546579.75000</td>\n",
       "      <td>NaN</td>\n",
       "      <td>NaN</td>\n",
       "      <td>6.442500</td>\n",
       "      <td>NaN</td>\n",
       "      <td>NaN</td>\n",
       "    </tr>\n",
       "    <tr>\n",
       "      <th>max</th>\n",
       "      <td>546592.00000</td>\n",
       "      <td>NaN</td>\n",
       "      <td>NaN</td>\n",
       "      <td>10.300000</td>\n",
       "      <td>NaN</td>\n",
       "      <td>NaN</td>\n",
       "    </tr>\n",
       "  </tbody>\n",
       "</table>\n",
       "</div>"
      ],
      "text/plain": [
       "             user_id    group landing_page  time_spent_on_the_page converted  \\\n",
       "count       50.00000       50           50               50.000000        50   \n",
       "unique           NaN        1            1                     NaN         2   \n",
       "top              NaN  control          old                     NaN        no   \n",
       "freq             NaN       50           50                     NaN        29   \n",
       "mean    546566.50000      NaN          NaN                4.532400       NaN   \n",
       "std         17.67767      NaN          NaN                2.581975       NaN   \n",
       "min     546493.00000      NaN          NaN                0.190000       NaN   \n",
       "25%     546555.25000      NaN          NaN                2.720000       NaN   \n",
       "50%     546567.50000      NaN          NaN                4.380000       NaN   \n",
       "75%     546579.75000      NaN          NaN                6.442500       NaN   \n",
       "max     546592.00000      NaN          NaN               10.300000       NaN   \n",
       "\n",
       "       language_preferred  \n",
       "count                  50  \n",
       "unique                  3  \n",
       "top                French  \n",
       "freq                   17  \n",
       "mean                  NaN  \n",
       "std                   NaN  \n",
       "min                   NaN  \n",
       "25%                   NaN  \n",
       "50%                   NaN  \n",
       "75%                   NaN  \n",
       "max                   NaN  "
      ]
     },
     "execution_count": 71,
     "metadata": {},
     "output_type": "execute_result"
    }
   ],
   "source": [
    "data[data[\"landing_page\"]==\"old\"].describe(include=\"all\")"
   ]
  },
  {
   "cell_type": "markdown",
   "id": "c0f50e7a",
   "metadata": {},
   "source": [
    "#### Observations\n",
    "* The mean time spent on the page for the existing landing page is about 4.53 minutes"
   ]
  },
  {
   "cell_type": "markdown",
   "id": "f978e98c",
   "metadata": {},
   "source": [
    "### Overall Observations\n",
    "* Yes, users spent an average of about 1.69 minutes more on the new landing page than the existing one. "
   ]
  },
  {
   "cell_type": "markdown",
   "id": "e5fdf0c8",
   "metadata": {
    "id": "e5fdf0c8"
   },
   "source": [
    "### Perform Visual Analysis"
   ]
  },
  {
   "cell_type": "code",
   "execution_count": 72,
   "id": "6eZJa41eg21n",
   "metadata": {
    "id": "6eZJa41eg21n"
   },
   "outputs": [
    {
     "data": {
      "image/png": "[encoded data removed]",
      "text/plain": [
       "<Figure size 1080x360 with 1 Axes>"
      ]
     },
     "metadata": {
      "needs_background": "light"
     },
     "output_type": "display_data"
    }
   ],
   "source": [
    "plt.figure(figsize=(15,5))\n",
    "sns.boxplot(data=data, x='landing_page', y='time_spent_on_the_page')\n",
    "plt.show()"
   ]
  },
  {
   "cell_type": "markdown",
   "id": "aae1d70a",
   "metadata": {},
   "source": [
    "#### Observations\n",
    "* According to the box plot, you can visualize that the new landing page has more online traffic than the old landing page"
   ]
  },
  {
   "cell_type": "markdown",
   "id": "56b3dafd",
   "metadata": {
    "id": "56b3dafd"
   },
   "source": [
    "### Step 1: Define the null and alternate hypotheses"
   ]
  },
  {
   "cell_type": "markdown",
   "id": "37d69544",
   "metadata": {},
   "source": [
    ">$H_0: \\mu_1 = \\mu_2$ "
   ]
  },
  {
   "cell_type": "markdown",
   "id": "a3ea738c",
   "metadata": {},
   "source": [
    ">$H_a: \\mu_1 > \\mu_2$"
   ]
  },
  {
   "cell_type": "markdown",
   "id": "c7ee4907",
   "metadata": {
    "id": "c7ee4907"
   },
   "source": [
    "### Step 2: Select Appropriate test"
   ]
  },
  {
   "cell_type": "markdown",
   "id": "2c183cd7",
   "metadata": {
    "id": "2c183cd7"
   },
   "source": [
    "This is a one-tailed test concerning two population means from two independent populations. As the population standard deviations are unknown, the two sample independent t-test will be the appropriate test for this problem."
   ]
  },
  {
   "cell_type": "markdown",
   "id": "3f58c9a7",
   "metadata": {
    "id": "3f58c9a7"
   },
   "source": [
    "### Step 3: Decide the significance level"
   ]
  },
  {
   "cell_type": "markdown",
   "id": "92d7d7ee",
   "metadata": {
    "id": "92d7d7ee"
   },
   "source": [
    "Here, we select α = 0.05"
   ]
  },
  {
   "cell_type": "markdown",
   "id": "5fed2eac",
   "metadata": {
    "id": "5fed2eac"
   },
   "source": [
    "### Step 4: Collect and prepare data"
   ]
  },
  {
   "cell_type": "code",
   "execution_count": 73,
   "id": "ea7a0ab1",
   "metadata": {},
   "outputs": [],
   "source": [
    "new_landing = data.loc[data['landing_page'] == 'new', 'time_spent_on_the_page'] \n",
    "old_landing = data.loc[data['landing_page'] == 'old', 'time_spent_on_the_page']"
   ]
  },
  {
   "cell_type": "code",
   "execution_count": 74,
   "id": "cc874072",
   "metadata": {},
   "outputs": [
    {
     "data": {
      "text/plain": [
       "count    50.000000\n",
       "mean      6.223200\n",
       "std       1.817031\n",
       "min       1.650000\n",
       "25%       5.175000\n",
       "50%       6.105000\n",
       "75%       7.160000\n",
       "max      10.710000\n",
       "Name: time_spent_on_the_page, dtype: float64"
      ]
     },
     "execution_count": 74,
     "metadata": {},
     "output_type": "execute_result"
    }
   ],
   "source": [
    "new_landing.describe(include=\"all\")"
   ]
  },
  {
   "cell_type": "code",
   "execution_count": 75,
   "id": "f5a59495",
   "metadata": {
    "id": "f5a59495"
   },
   "outputs": [
    {
     "data": {
      "text/plain": [
       "count    50.000000\n",
       "mean      4.532400\n",
       "std       2.581975\n",
       "min       0.190000\n",
       "25%       2.720000\n",
       "50%       4.380000\n",
       "75%       6.442500\n",
       "max      10.300000\n",
       "Name: time_spent_on_the_page, dtype: float64"
      ]
     },
     "execution_count": 75,
     "metadata": {},
     "output_type": "execute_result"
    }
   ],
   "source": [
    "old_landing.describe(include=\"all\")"
   ]
  },
  {
   "cell_type": "markdown",
   "id": "47b6a7fd",
   "metadata": {},
   "source": [
    "* The mean time spent on the new landing page is 6.2232\n",
    "* The mean time spent on the old landing page is 4.5324\n",
    "* The standard deviation of the new landing page is 1.817031\n",
    "* The standard deviation of the old landing page is 2.581975"
   ]
  },
  {
   "cell_type": "markdown",
   "id": "f5c5258d",
   "metadata": {
    "id": "f5c5258d"
   },
   "source": [
    "### Step 5: Calculate the p-value"
   ]
  },
  {
   "cell_type": "code",
   "execution_count": 76,
   "id": "111c8580",
   "metadata": {},
   "outputs": [
    {
     "name": "stdout",
     "output_type": "stream",
     "text": [
      "The p-value is 0.0001392381225166549\n"
     ]
    }
   ],
   "source": [
    "# import the required function\n",
    "from scipy.stats import ttest_ind\n",
    "# find the p-value\n",
    "test_stat, p_value = ttest_ind(new_landing, old_landing, equal_var = False, alternative = 'greater')\n",
    "print('The p-value is', p_value)"
   ]
  },
  {
   "cell_type": "markdown",
   "id": "359b12f8",
   "metadata": {
    "id": "359b12f8"
   },
   "source": [
    "### Step 6: Compare the p-value with $\\alpha$"
   ]
  },
  {
   "cell_type": "code",
   "execution_count": 77,
   "id": "7f95f723",
   "metadata": {},
   "outputs": [
    {
     "name": "stdout",
     "output_type": "stream",
     "text": [
      "As the p-value 0.0001392381225166549 is less than the level of significance, we reject the null hypothesis.\n"
     ]
    }
   ],
   "source": [
    "# print the conclusion based on p-value\n",
    "if p_value < 0.05:\n",
    "    print(f'As the p-value {p_value} is less than the level of significance, we reject the null hypothesis.')\n",
    "else:\n",
    "    print(f'As the p-value {p_value} is greater than the level of significance, we fail to reject the null hypothesis.')"
   ]
  },
  {
   "cell_type": "markdown",
   "id": "d9affc84",
   "metadata": {
    "id": "d9affc84"
   },
   "source": [
    "### Step 7:  Draw inference"
   ]
  },
  {
   "cell_type": "markdown",
   "id": "1ad0823a",
   "metadata": {
    "id": "1ad0823a"
   },
   "source": [
    "Since the p-value is less than the 5% significance level, we reject the null hypothesis. Hence, we have enough statistical evidence to say that the mean time spent by the users on the new page is greater than the mean time spent by the users on the old page."
   ]
  },
  {
   "cell_type": "markdown",
   "id": "353e9d24",
   "metadata": {
    "id": "353e9d24"
   },
   "source": [
    "## 3. Is the conversion rate (the proportion of users who visit the landing page and get converted) for the new page greater than the conversion rate for the old page? (10 Marks)"
   ]
  },
  {
   "cell_type": "markdown",
   "id": "75e517ed",
   "metadata": {},
   "source": [
    "### Two Proportion Z-Test"
   ]
  },
  {
   "cell_type": "markdown",
   "id": "8e70a142",
   "metadata": {},
   "source": [
    "#### Null Hypothesis"
   ]
  },
  {
   "cell_type": "markdown",
   "id": "743054bb",
   "metadata": {},
   "source": [
    ">**$H_0: P_1 = P_2$**"
   ]
  },
  {
   "cell_type": "markdown",
   "id": "ee63ce83",
   "metadata": {},
   "source": [
    "#### Alternate Hypothesis"
   ]
  },
  {
   "cell_type": "markdown",
   "id": "8f99a6be",
   "metadata": {},
   "source": [
    ">**$H_a: P_1 > P_2$**"
   ]
  },
  {
   "cell_type": "code",
   "execution_count": 78,
   "id": "51556a27",
   "metadata": {},
   "outputs": [],
   "source": [
    "#import required function\n",
    "from statsmodels.stats.proportion import proportions_ztest"
   ]
  },
  {
   "cell_type": "code",
   "execution_count": 79,
   "id": "3ae1d69c",
   "metadata": {},
   "outputs": [
    {
     "name": "stdout",
     "output_type": "stream",
     "text": [
      "The numbers of new and old convertors are 33 and 21 respectively\n",
      "The numbers of new and old visitors are 50 and 50 respectively\n"
     ]
    }
   ],
   "source": [
    "#number of new converted\n",
    "new_convertors = data[data['landing_page']== 'new'].converted.value_counts()['yes']\n",
    "#number of old converted \n",
    "old_convertors = data[data['landing_page']=='old'].converted.value_counts()['yes']\n",
    "\n",
    "print('The numbers of new and old convertors are {0} and {1} respectively'.format(new_convertors, old_convertors))\n",
    "\n",
    "#number of visitors to new\n",
    "n_new = data.landing_page.value_counts()['new']\n",
    "\n",
    "#number of visitors to old \n",
    "n_old = data.landing_page.value_counts()['old']\n",
    "\n",
    "print('The numbers of new and old visitors are {0} and {1} respectively'.format(n_new, n_old))"
   ]
  },
  {
   "cell_type": "code",
   "execution_count": 80,
   "id": "9566367e",
   "metadata": {},
   "outputs": [
    {
     "name": "stdout",
     "output_type": "stream",
     "text": [
      " The proportions of convertors in new and old pages are 0.66, 0.42, respectively\n"
     ]
    }
   ],
   "source": [
    "print(f' The proportions of convertors in new and old pages are {round(33/50,2)}, {round(21/50,2)}, respectively')"
   ]
  },
  {
   "cell_type": "markdown",
   "id": "40b8074d",
   "metadata": {},
   "source": [
    "* The proportions of convertors in the new and old landing pages are 0.66, 0.42, respectively. "
   ]
  },
  {
   "cell_type": "markdown",
   "id": "b16aeace",
   "metadata": {},
   "source": [
    "### Calculate the P-Value"
   ]
  },
  {
   "cell_type": "code",
   "execution_count": 81,
   "id": "b7f52898",
   "metadata": {
    "id": "b7f52898"
   },
   "outputs": [
    {
     "name": "stdout",
     "output_type": "stream",
     "text": [
      "The p-value is 0.008026308204056278\n"
     ]
    }
   ],
   "source": [
    "# find the p-value using proportion_ztest\n",
    "stat, pval = proportions_ztest([new_convertors, old_convertors] , [n_new, n_old], alternative = 'larger')\n",
    "\n",
    "# print the p-value\n",
    "print('The p-value is '+ str(pval))\n"
   ]
  },
  {
   "cell_type": "markdown",
   "id": "0891e242",
   "metadata": {},
   "source": [
    "### Compare the P-Value with $\\alpha$"
   ]
  },
  {
   "cell_type": "code",
   "execution_count": 82,
   "id": "ff396238",
   "metadata": {},
   "outputs": [
    {
     "name": "stdout",
     "output_type": "stream",
     "text": [
      "As the p-value 0.008026308204056278 is less than the level of significance, we reject the null hypothesis.\n"
     ]
    }
   ],
   "source": [
    "#print the conclusion based on p-value \n",
    "if pval <0.05:\n",
    "    print(f'As the p-value {pval} is less than the level of significance, we reject the null hypothesis.')\n",
    "else: \n",
    "    print(f'As the p-value {pval} is greater than the level of significance, we fail to reject the null hypothesis.')"
   ]
  },
  {
   "cell_type": "markdown",
   "id": "d58c8f29",
   "metadata": {},
   "source": [
    "### Conclusion\n",
    "Since the pvalue is < 0.05, we reject the null hypothesis. Hence, we have enough statistical evidence to say that the proportion of users who visit the new landing page and get converted is greater than the conversion rate for the old page. "
   ]
  },
  {
   "cell_type": "markdown",
   "id": "d49bfa2d",
   "metadata": {
    "id": "d49bfa2d"
   },
   "source": [
    "## 4. Is the conversion and preferred language are independent or related? (10 Marks)"
   ]
  },
  {
   "cell_type": "markdown",
   "id": "3ad363bf",
   "metadata": {},
   "source": [
    "### Chi-Square Test"
   ]
  },
  {
   "cell_type": "markdown",
   "id": "d63b9e5f",
   "metadata": {},
   "source": [
    ">$H_0:$ Conversion is independent on preferred language."
   ]
  },
  {
   "cell_type": "markdown",
   "id": "bd115853",
   "metadata": {},
   "source": [
    ">$H_a:$ Conversion is NOT independent on preferred language."
   ]
  },
  {
   "cell_type": "code",
   "execution_count": 83,
   "id": "b0e63f17",
   "metadata": {
    "id": "b0e63f17"
   },
   "outputs": [],
   "source": [
    "#import necessary packages\n",
    "from scipy.stats import chi2_contingency #For Chi-Square Test"
   ]
  },
  {
   "cell_type": "markdown",
   "id": "41471f89",
   "metadata": {},
   "source": [
    "### Data Preperation "
   ]
  },
  {
   "cell_type": "code",
   "execution_count": 84,
   "id": "f9fcfe4d",
   "metadata": {},
   "outputs": [
    {
     "data": {
      "text/html": [
       "<div>\n",
       "<style scoped>\n",
       "    .dataframe tbody tr th:only-of-type {\n",
       "        vertical-align: middle;\n",
       "    }\n",
       "\n",
       "    .dataframe tbody tr th {\n",
       "        vertical-align: top;\n",
       "    }\n",
       "\n",
       "    .dataframe thead th {\n",
       "        text-align: right;\n",
       "    }\n",
       "</style>\n",
       "<table border=\"1\" class=\"dataframe\">\n",
       "  <thead>\n",
       "    <tr style=\"text-align: right;\">\n",
       "      <th>language_preferred</th>\n",
       "      <th>English</th>\n",
       "      <th>French</th>\n",
       "      <th>Spanish</th>\n",
       "    </tr>\n",
       "    <tr>\n",
       "      <th>converted</th>\n",
       "      <th></th>\n",
       "      <th></th>\n",
       "      <th></th>\n",
       "    </tr>\n",
       "  </thead>\n",
       "  <tbody>\n",
       "    <tr>\n",
       "      <th>no</th>\n",
       "      <td>11</td>\n",
       "      <td>19</td>\n",
       "      <td>16</td>\n",
       "    </tr>\n",
       "    <tr>\n",
       "      <th>yes</th>\n",
       "      <td>21</td>\n",
       "      <td>15</td>\n",
       "      <td>18</td>\n",
       "    </tr>\n",
       "  </tbody>\n",
       "</table>\n",
       "</div>"
      ],
      "text/plain": [
       "language_preferred  English  French  Spanish\n",
       "converted                                   \n",
       "no                       11      19       16\n",
       "yes                      21      15       18"
      ]
     },
     "execution_count": 84,
     "metadata": {},
     "output_type": "execute_result"
    }
   ],
   "source": [
    "#create the contigency table showing the distribution of the categorical variables\n",
    "contingency_table = pd.crosstab(data['converted'], data['language_preferred'])\n",
    "contingency_table"
   ]
  },
  {
   "cell_type": "markdown",
   "id": "308e092b",
   "metadata": {},
   "source": [
    "### Calculate P-Value"
   ]
  },
  {
   "cell_type": "code",
   "execution_count": 85,
   "id": "ecadf89c",
   "metadata": {},
   "outputs": [
    {
     "name": "stdout",
     "output_type": "stream",
     "text": [
      "The p-value is 0.21298887487543447\n"
     ]
    }
   ],
   "source": [
    "#use chi2_contigency() to find the p-value\n",
    "chi2, pval, dof, exp_freq = chi2_contingency(contingency_table)\n",
    "\n",
    "#print the p-value\n",
    "print('The p-value is', pval)"
   ]
  },
  {
   "cell_type": "markdown",
   "id": "781673c5",
   "metadata": {},
   "source": [
    "### Compare the p-value with $\\alpha$"
   ]
  },
  {
   "cell_type": "code",
   "execution_count": 86,
   "id": "3e0df38d",
   "metadata": {},
   "outputs": [
    {
     "name": "stdout",
     "output_type": "stream",
     "text": [
      "As the p-value 0.21298887487543447 is greater than the level of significance, we fail to reject the null hypothesis.\n"
     ]
    }
   ],
   "source": [
    "#print the conclusion based on p-value\n",
    "if pval < 0.05:\n",
    "    print(f'As the p-value {pval} is less than the level of significance, we reject the null hypothesis.')\n",
    "else:  \n",
    "    print(f'As the p-value {pval} is greater than the level of significance, we fail to reject the null hypothesis.')"
   ]
  },
  {
   "cell_type": "markdown",
   "id": "c29b279c",
   "metadata": {},
   "source": [
    "### Conclusion\n",
    "Since the p-value is > 0.05, we fail to reject the null hypothesis. Hence, we have enough statistical evidence to say that conversion is independent on preferred language."
   ]
  },
  {
   "cell_type": "markdown",
   "id": "8d585a90",
   "metadata": {
    "id": "8d585a90"
   },
   "source": [
    "## 5. Is the time spent on the new page same for the different language users? (10 Marks)"
   ]
  },
  {
   "cell_type": "markdown",
   "id": "73b2ba05",
   "metadata": {
    "id": "b422f395"
   },
   "source": [
    "### One-Way ANOVA Test "
   ]
  },
  {
   "cell_type": "markdown",
   "id": "50ebf0e4",
   "metadata": {},
   "source": [
    ">$H_0: \\mu_1 = \\mu_2 = \\mu_3$"
   ]
  },
  {
   "cell_type": "markdown",
   "id": "b6952afc",
   "metadata": {},
   "source": [
    ">$H_a: $ At least one time spent on the page is different from the rest."
   ]
  },
  {
   "cell_type": "markdown",
   "id": "037eb854",
   "metadata": {},
   "source": [
    "#### Shapiro-Wilk's Test"
   ]
  },
  {
   "cell_type": "markdown",
   "id": "196267d8",
   "metadata": {},
   "source": [
    ">$H_0:$ Time spent on the page follows a normal distribution"
   ]
  },
  {
   "cell_type": "markdown",
   "id": "50e91d5f",
   "metadata": {},
   "source": [
    ">$H_a: $ Time spent on the page does not follow a normal distribution"
   ]
  },
  {
   "cell_type": "code",
   "execution_count": 87,
   "id": "66ec910e",
   "metadata": {},
   "outputs": [
    {
     "name": "stdout",
     "output_type": "stream",
     "text": [
      "The p-value is 0.5643684267997742\n"
     ]
    }
   ],
   "source": [
    "#Aussmption 1: Normality\n",
    "w,p_value = stats.shapiro(data['time_spent_on_the_page'])\n",
    "print('The p-value is', p_value)"
   ]
  },
  {
   "cell_type": "markdown",
   "id": "7a67bd53",
   "metadata": {},
   "source": [
    "* Since the p-value of the test is very large, we fail to reject the null hypothesis that the response follows the normal distribution"
   ]
  },
  {
   "cell_type": "markdown",
   "id": "f7180fa3",
   "metadata": {},
   "source": [
    "#### Levene's Test"
   ]
  },
  {
   "cell_type": "markdown",
   "id": "e43ca9a0",
   "metadata": {},
   "source": [
    ">$H_0: $ All the population variances are equal"
   ]
  },
  {
   "cell_type": "markdown",
   "id": "0359274a",
   "metadata": {},
   "source": [
    ">$H_a: $ At least one variance is different from the rest"
   ]
  },
  {
   "cell_type": "code",
   "execution_count": 88,
   "id": "5e8bb5ca",
   "metadata": {},
   "outputs": [
    {
     "name": "stdout",
     "output_type": "stream",
     "text": [
      "The p-value is 0.06515086840327314\n"
     ]
    }
   ],
   "source": [
    "#Assumption 2: Homogeneity of Variance\n",
    "#import the required function\n",
    "from scipy.stats import levene\n",
    "statistic, p_value = levene(data['time_spent_on_the_page'][data['language_preferred']==\"English\"], \n",
    "                                   data['time_spent_on_the_page'][data['language_preferred']==\"French\"], \n",
    "                                   data['time_spent_on_the_page'][data['language_preferred']==\"Spanish\"])\n",
    "# find the p-value\n",
    "print('The p-value is', p_value)"
   ]
  },
  {
   "cell_type": "markdown",
   "id": "335bfefb",
   "metadata": {},
   "source": [
    "* Since the p-value is large, we fail to reject the null hypothesis of homogenity of variances"
   ]
  },
  {
   "cell_type": "markdown",
   "id": "41331ce0",
   "metadata": {},
   "source": [
    "#### Find the P-Value "
   ]
  },
  {
   "cell_type": "code",
   "execution_count": 89,
   "id": "0d1c96ab",
   "metadata": {},
   "outputs": [
    {
     "name": "stdout",
     "output_type": "stream",
     "text": [
      "The p-value is 0.8665610536012648\n"
     ]
    }
   ],
   "source": [
    "#import the required function \n",
    "from scipy.stats import f_oneway\n",
    "\n",
    "#perform one way anova test\n",
    "test_stat, p_value = f_oneway(data.loc[data['language_preferred'] == 'English', 'time_spent_on_the_page'], \n",
    "                              data.loc[data['language_preferred'] == 'French', 'time_spent_on_the_page'], \n",
    "                              data.loc[data['language_preferred'] == 'Spanish', 'time_spent_on_the_page'])\n",
    "print ('The p-value is', str(p_value))"
   ]
  },
  {
   "cell_type": "markdown",
   "id": "92a8d22a",
   "metadata": {},
   "source": [
    "* Since the p-value is very large, we fail to reject the null hypothesis. Hence, we have enough statistical significance to conclude that the time spent on the new page is not different for different language users. "
   ]
  },
  {
   "cell_type": "code",
   "execution_count": 90,
   "id": "0d27489e",
   "metadata": {},
   "outputs": [
    {
     "name": "stdout",
     "output_type": "stream",
     "text": [
      " Multiple Comparison of Means - Tukey HSD, FWER=0.05 \n",
      "=====================================================\n",
      " group1  group2 meandiff p-adj   lower  upper  reject\n",
      "-----------------------------------------------------\n",
      "English  French  -0.3058 0.8482 -1.7123 1.1006  False\n",
      "English Spanish  -0.2273    0.9 -1.6338 1.1792  False\n",
      " French Spanish   0.0785    0.9 -1.3065 1.4635  False\n",
      "-----------------------------------------------------\n"
     ]
    }
   ],
   "source": [
    "#import the required function\n",
    "from statsmodels.stats.multicomp import pairwise_tukeyhsd\n",
    "\n",
    "#perform multiple pairwise comparison (Tukey HSD)\n",
    "m_comp = pairwise_tukeyhsd(endog = data['time_spent_on_the_page'], groups = data['language_preferred'], alpha = 0.05)\n",
    "print(m_comp)"
   ]
  },
  {
   "cell_type": "markdown",
   "id": "9a1eeba1",
   "metadata": {},
   "source": [
    "### Conclusion"
   ]
  },
  {
   "cell_type": "markdown",
   "id": "45925366",
   "metadata": {},
   "source": [
    "We fail to reject the null hypothesis. Hence, we have enough statistical significance to conclude that the time spent on the new page is not different for different language users."
   ]
  },
  {
   "cell_type": "markdown",
   "id": "3acbc947",
   "metadata": {
    "id": "3acbc947"
   },
   "source": [
    "## Conclusion and Business Recommendations"
   ]
  },
  {
   "cell_type": "markdown",
   "id": "21fb1063",
   "metadata": {
    "id": "21fb1063"
   },
   "source": []
  },
  {
   "cell_type": "markdown",
   "id": "4edd1bec",
   "metadata": {},
   "source": [
    "* The proportion of users who visit the new landing page and get converted is greater than the conversion rate for the old page. \n",
    "* Conversion rate is independent on preferred language.\n",
    "* Time spent on the new page is not different for different language users.\n",
    "* The design team of the company's new landing page has recieved more traffic and has benefitted the company.\n",
    "* **The new landing page is more effective to gather new subscribers.**\n",
    "* The business should continue to update and create new pages periodically with growing trends. \n",
    "* The company should add more language options to the landing page in order to grow their customer base. \n",
    "* The company should continue conduct more studies to adjust their website to customer needs. "
   ]
  }
 ],
 "metadata": {
  "colab": {
   "collapsed_sections": [],
   "name": "ENews_Express_Learner_Notebook[Full Code Version].ipynb",
   "provenance": []
  },
  "kernelspec": {
   "display_name": "Python 3",
   "language": "python",
   "name": "python3"
  },
  "language_info": {
   "codemirror_mode": {
    "name": "ipython",
    "version": 3
   },
   "file_extension": ".py",
   "mimetype": "text/x-python",
   "name": "python",
   "nbconvert_exporter": "python",
   "pygments_lexer": "ipython3",
   "version": "3.8.8"
  }
 },
 "nbformat": 4,
 "nbformat_minor": 5
}
